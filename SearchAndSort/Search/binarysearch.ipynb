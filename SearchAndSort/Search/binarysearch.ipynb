{
 "cells": [
  {
   "cell_type": "code",
   "execution_count": null,
   "metadata": {},
   "outputs": [],
   "source": [
    "def binarysearch(l, first, last, key):\n",
    "    print(f\"Interval range: [{first}, {last}]\")\n",
    "    if first <= last:\n",
    "        mid = int((first + last)/2)\n",
    "        if key == l[mid]:\n",
    "            return mid\n",
    "        elif key < l[mid]:\n",
    "            return binarysearch(l, first, mid-1, key)\n",
    "        elif key > l[mid]:\n",
    "            return binarysearch(l, mid+1, last, key)\n",
    "    else:\n",
    "        return -1"
   ]
  },
  {
   "cell_type": "code",
   "execution_count": null,
   "metadata": {},
   "outputs": [],
   "source": [
    "data = [0, 1, 2, 3, 4, 5, 6, 7, 8, 9, 10]"
   ]
  },
  {
   "cell_type": "code",
   "execution_count": null,
   "metadata": {},
   "outputs": [],
   "source": [
    "index = binarysearch(data, 0, len(data)-1, 5)\n",
    "print(f\"Index of 5 is {index}\")"
   ]
  },
  {
   "cell_type": "code",
   "execution_count": null,
   "metadata": {},
   "outputs": [],
   "source": [
    "index = binarysearch(data, 0, len(data)-1, 10)\n",
    "print(f\"Index of 10 is {index}\")"
   ]
  },
  {
   "cell_type": "code",
   "execution_count": null,
   "metadata": {},
   "outputs": [],
   "source": [
    "index = binarysearch(data, 0, len(data)-1, -12)\n",
    "print(f\"Index of -12 is {index}\")"
   ]
  },
  {
   "cell_type": "code",
   "execution_count": null,
   "metadata": {},
   "outputs": [],
   "source": []
  }
 ],
 "metadata": {
  "kernelspec": {
   "display_name": "Python 3",
   "language": "python",
   "name": "python3"
  },
  "language_info": {
   "codemirror_mode": {
    "name": "ipython",
    "version": 3
   },
   "file_extension": ".py",
   "mimetype": "text/x-python",
   "name": "python",
   "nbconvert_exporter": "python",
   "pygments_lexer": "ipython3",
   "version": "3.11.0"
  },
  "orig_nbformat": 4,
  "vscode": {
   "interpreter": {
    "hash": "4d6107c111729bd5ce3331310fae5253cc0d431ac3d9285ad94d573e2e94c40b"
   }
  }
 },
 "nbformat": 4,
 "nbformat_minor": 2
}
